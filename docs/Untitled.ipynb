{
 "cells": [
  {
   "cell_type": "markdown",
   "metadata": {},
   "source": [
    "![images](logo-05.png)\n",
    "Welcome! \"Boba Blast\" is a game where the goal of the player is to collect as many tapioca pearls as they can while avoiding the rocks falling from the sky. The player starts with 3 lives, and loses one each time a rock hits them! \n",
    "\n",
    "### Project Goal\n",
    "\n",
    "### Unique Features\n",
    "\n",
    "### Installation\n",
    "A detailed installation guide can be found [here](https://github.com/olincollege/boba-blast/blob/main/README.md)\n",
    "\n",
    "To play this game, you will need pygame installed on python. You will also need to download all the files in the [boba-blast repository](https://github.com/olincollege/boba-blast). Then, navigate to the boba-blast folder and run the following command in the terminal to start playing: \n",
    "\n",
    "<mark>$ python main.py</mark>\n",
    "\n",
    "### About Us\n",
    "\n",
    "<img src=\"logo-05.png\" width=\"30%\" height=\"30%\" style=\"float:left;margin:0px 30px\"><br>\n",
    "#### Berwin Lan\n",
    "\n",
    "This is a short bio about me!!\n",
    "<br><br><br><br><br><br><br>\n",
    "\n",
    "<img src=\"logo-05.png\" width=\"30%\" height=\"30%\" style=\"float:left;margin:0px 30px\"><br>\n",
    "#### Claire Hashizume\n",
    "\n",
    "This is a short bio about me!!\n",
    "<br><br><br><br><br><br><br>\n",
    "\n",
    "\n",
    "\n",
    "\n",
    "\n",
    "\n",
    "#### Attribution\n",
    "We looked at [KidsCanCode](http://kidscancode.org/lessons/) as a resource when starting this project to learn some of the basic components of Pygame.\n",
    "\n",
    "For our game music and sound effects, we used audio from the following sites:\n",
    "Music: [bensound.com](https://www.bensound.com/)\n",
    "Sound effects: [orangefreesounds.com](https://orangefreesounds.com/)"
   ]
  }
 ],
 "metadata": {
  "kernelspec": {
   "display_name": "Python 3",
   "language": "python",
   "name": "python3"
  },
  "language_info": {
   "codemirror_mode": {
    "name": "ipython",
    "version": 3
   },
   "file_extension": ".py",
   "mimetype": "text/x-python",
   "name": "python",
   "nbconvert_exporter": "python",
   "pygments_lexer": "ipython3",
   "version": "3.8.5"
  }
 },
 "nbformat": 4,
 "nbformat_minor": 4
}
